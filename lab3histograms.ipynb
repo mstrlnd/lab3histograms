{
 "cells": [
  {
   "cell_type": "code",
   "execution_count": null,
   "id": "06c5bb5f-393c-4c92-aa35-6f7fc5c7cfc5",
   "metadata": {},
   "outputs": [],
   "source": [
    "#import python libraries for data analysis \n",
    "#I'm for loading data into data frames\n",
    "import pandas as pd \n",
    "#I'm for plotting data\n",
    "import seaborn as sns \n",
    "#I'm also for plotting data\n",
    "import matplotlib.pylab as plt"
   ]
  },
  {
   "cell_type": "code",
   "execution_count": null,
   "id": "dc762cd4-b9ad-496a-b480-85ff8122aae1",
   "metadata": {},
   "outputs": [],
   "source": [
    "#load data\n",
    "df = pd.read_csv('cdc.csv')\n",
    "#number of rows of data and the number of variables - How many rows are there?  How many variables?\n",
    "df.shape"
   ]
  },
  {
   "cell_type": "code",
   "execution_count": null,
   "id": "696f657e-89cb-48a4-be8b-a7e9325ad150",
   "metadata": {},
   "outputs": [],
   "source": [
    "#preview the first 5 rows of data (some variables might get cut off)\n",
    "df.head()"
   ]
  },
  {
   "cell_type": "code",
   "execution_count": null,
   "id": "ac226ee3-73e3-4025-9750-31645cae89d1",
   "metadata": {},
   "outputs": [],
   "source": [
    "#List all the variables and check the datatypes.  \"object\" is categorical.  \n",
    "#\"int64\" and \"float64\" are numerical \n",
    "df.dtypes"
   ]
  },
  {
   "cell_type": "code",
   "execution_count": null,
   "id": "9025585a-ac56-4fc9-961a-99829c798d33",
   "metadata": {},
   "outputs": [],
   "source": [
    "#make a histogram\n",
    "sns.histplot(data=df, x='height')"
   ]
  },
  {
   "cell_type": "code",
   "execution_count": null,
   "id": "09b0425f-9f83-4118-8d40-9d98e117db93",
   "metadata": {},
   "outputs": [],
   "source": [
    "#make a histogram and choose the number of bins (20)\n",
    "sns.histplot(data=df, x='height', bins=20)"
   ]
  },
  {
   "cell_type": "code",
   "execution_count": null,
   "id": "1ad34365-36c9-4fac-88ba-3b131c1c7a51",
   "metadata": {},
   "outputs": [],
   "source": [
    "#make a histogram with a bin size of 0.25 meters\n",
    "sns.histplot(data=df, x='height', binwidth=0.25)"
   ]
  },
  {
   "cell_type": "code",
   "execution_count": null,
   "id": "aa941457-eb3a-4d1c-8c59-ba5da176b942",
   "metadata": {},
   "outputs": [],
   "source": [
    "#Facet the data on gender (makes a plot for each category in the variable gender)\n",
    "g = sns.FacetGrid(df, col='gender')\n",
    "g.map(sns.histplot, 'height', bins=5)"
   ]
  },
  {
   "cell_type": "code",
   "execution_count": null,
   "id": "d7e61a85-0606-4af8-b8e4-927067ee51b3",
   "metadata": {},
   "outputs": [],
   "source": [
    "#You can also control the layout of your plots. Here we chose 1 column so they stack on top of each other\n",
    "g = sns.FacetGrid(df, col='gender', col_wrap=1)\n",
    "g.map(sns.histplot, 'height', bins=5)"
   ]
  },
  {
   "cell_type": "code",
   "execution_count": null,
   "id": "3b6afb1a-833e-477d-85c6-bea9ec5083de",
   "metadata": {},
   "outputs": [],
   "source": [
    "#Faceting also works for bargraphs\n",
    "g = sns.FacetGrid(df, col='gender', col_wrap=2)\n",
    "g.map(sns.countplot, 'eat_fruit')\n",
    "#This part is to make the labels not run over each other\n",
    "for axes in g.axes.flat:\n",
    "    _ = axes.set_xticklabels(axes.get_xticklabels(), rotation=90)"
   ]
  },
  {
   "cell_type": "code",
   "execution_count": null,
   "id": "3c7b6f9a-9d71-4f6a-8006-53c38ecd5e92",
   "metadata": {},
   "outputs": [],
   "source": []
  }
 ],
 "metadata": {
  "kernelspec": {
   "display_name": "Python 3 (ipykernel)",
   "language": "python",
   "name": "python3"
  },
  "language_info": {
   "codemirror_mode": {
    "name": "ipython",
    "version": 3
   },
   "file_extension": ".py",
   "mimetype": "text/x-python",
   "name": "python",
   "nbconvert_exporter": "python",
   "pygments_lexer": "ipython3",
   "version": "3.9.12"
  }
 },
 "nbformat": 4,
 "nbformat_minor": 5
}
